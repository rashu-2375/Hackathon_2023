{
 "cells": [
  {
   "cell_type": "markdown",
   "metadata": {},
   "source": [
    "# SEM_1 ASSIGNMENT\n",
    "Q.Create a text file with one word in each line. \n",
    "The words can be repeated, i.e. the same word can come in more than one line\n",
    ". Read this text file in python, and create a dictionary where the key is the word and\n",
    " the value is the number of times it occurs in the text file."
   ]
  },
  {
   "cell_type": "code",
   "execution_count": 5,
   "metadata": {},
   "outputs": [
    {
     "name": "stdout",
     "output_type": "stream",
     "text": [
      "{'papaya': 3, 'grapes': 2, 'mango': 1, 'pineapple': 3, 'Gaurav': 1, 'sonam': 1, 'suhani': 1, 'rahila': 1, 'sonali': 1}\n"
     ]
    }
   ],
   "source": [
    "dict1={}\n",
    "with open('textfile.txt','r') as file:\n",
    "    for line in file: #iterate through the file \n",
    "        word=line.strip()\n",
    "         #removes the ditances leading and trailing both apple\\n will read as \"apple\"\n",
    "        if word in dict1: # the logic used here is if any word comes more than 1 then the value corresponding to that key\n",
    "        # will increase by one\n",
    "            dict1[word]+=1  \n",
    "        else:\n",
    "            dict1[word]=1\n",
    "    print(dict1)"
   ]
  },
  {
   "cell_type": "code",
   "execution_count": 7,
   "metadata": {},
   "outputs": [
    {
     "name": "stdout",
     "output_type": "stream",
     "text": [
      "Word frequencies:\n",
      "apple: 3\n",
      "banana: 2\n",
      "orange: 1\n",
      "grape: 1\n"
     ]
    },
    {
     "ename": "",
     "evalue": "",
     "output_type": "error",
     "traceback": [
      "\u001b[1;31mThe Kernel crashed while executing code in the the current cell or a previous cell. Please review the code in the cell(s) to identify a possible cause of the failure. Click <a href='https://aka.ms/vscodeJupyterKernelCrash'>here</a> for more info. View Jupyter <a href='command:jupyter.viewOutput'>log</a> for further details."
     ]
    }
   ],
   "source": [
    "# Create a text file with one word in each line\n",
    "with open('textfile.txt', 'w') as file:\n",
    "    words = [\"apple\", \"banana\", \"orange\", \"apple\", \"grape\", \"banana\", \"apple\"]\n",
    "    for word in words:\n",
    "        file.write(word + '\\n')\n",
    "\n",
    "# Read the text file and create a dictionary with word frequencies\n",
    "word_freq_dict = {}\n",
    "with open('word_list.txt', 'r') as file:\n",
    "    for line in file:\n",
    "        word = line.strip()  # Remove newline characters\n",
    "        if word in word_freq_dict:\n",
    "            word_freq_dict[word] += 1\n",
    "        else:\n",
    "            word_freq_dict[word] = 1\n",
    "\n",
    "# Print the resulting dictionary\n",
    "print(\"Word frequencies:\")\n",
    "for word, frequency in word_freq_dict.items():\n",
    "    print(f\"{word}: {frequency}\")\n"
   ]
  }
 ],
 "metadata": {
  "kernelspec": {
   "display_name": "Python 3",
   "language": "python",
   "name": "python3"
  },
  "language_info": {
   "codemirror_mode": {
    "name": "ipython",
    "version": 3
   },
   "file_extension": ".py",
   "mimetype": "text/x-python",
   "name": "python",
   "nbconvert_exporter": "python",
   "pygments_lexer": "ipython3",
   "version": "3.11.5"
  }
 },
 "nbformat": 4,
 "nbformat_minor": 2
}
