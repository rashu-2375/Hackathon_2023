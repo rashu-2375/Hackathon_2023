{
 "cells": [
  {
   "cell_type": "markdown",
   "metadata": {},
   "source": [
    "Given a list of arbitrary nos(could be empty),create a dictionary containing \n",
    "the mean,maxinum and minimum of these numbers."
   ]
  },
  {
   "cell_type": "code",
   "execution_count": null,
   "metadata": {},
   "outputs": [],
   "source": [
    "list1= [1,2,3,4]\n",
    "dict1 = {}\n",
    "sum1 = 0\n",
    "for i in list1:\n",
    "    sum1 += i\n",
    "mean = sum1/len(list1)\n",
    "print(mean)\n"
   ]
  },
  {
   "cell_type": "code",
   "execution_count": null,
   "metadata": {},
   "outputs": [],
   "source": [
    "for i in list1:\n",
    "    max_num = list1[0]\n",
    "    if i > max_num:\n",
    "        max_num = i\n",
    "print(max_num)"
   ]
  },
  {
   "cell_type": "code",
   "execution_count": null,
   "metadata": {},
   "outputs": [],
   "source": [
    "for i in list1:\n",
    "    min_num = list1[0]\n",
    "    if i<min_num:\n",
    "        min_num = i\n",
    "print(min_num)"
   ]
  },
  {
   "cell_type": "code",
   "execution_count": null,
   "metadata": {},
   "outputs": [],
   "source": [
    "dict1[\"mean\"] = mean\n",
    "dict1[\"max_num\"] = max_num\n",
    "dict1[\"min_num\"] = min_num\n",
    "print(dict1)"
   ]
  },
  {
   "cell_type": "markdown",
   "metadata": {},
   "source": [
    "# ***Right method***"
   ]
  },
  {
   "cell_type": "code",
   "execution_count": 2,
   "metadata": {},
   "outputs": [
    {
     "name": "stdout",
     "output_type": "stream",
     "text": [
      "{'mean': 5.0, 'max_num': 8, 'min_num': 2}\n"
     ]
    },
    {
     "ename": "",
     "evalue": "",
     "output_type": "error",
     "traceback": [
      "\u001b[1;31mThe Kernel crashed while executing code in the the current cell or a previous cell. Please review the code in the cell(s) to identify a possible cause of the failure. Click <a href='https://aka.ms/vscodeJupyterKernelCrash'>here</a> for more info. View Jupyter <a href='command:jupyter.viewOutput'>log</a> for further details."
     ]
    }
   ],
   "source": [
    "list2 = [4,6,8,2]\n",
    "dict1 = {}\n",
    "sum1 = 0 \n",
    "max_num = list2[0]\n",
    "min_num = list2[0]\n",
    "\n",
    "for i in list2:\n",
    "    sum1 += i\n",
    "    if i >max_num:\n",
    "        max_num = i\n",
    "    else:\n",
    "        min_num = i\n",
    "mean = sum1/(len(list2))\n",
    "dict1[\"mean\"] = mean\n",
    "dict1[\"max_num\"] = max_num\n",
    "dict1[\"min_num\"] = min_num\n",
    "print(dict1)"
   ]
  }
 ],
 "metadata": {
  "kernelspec": {
   "display_name": "Python 3",
   "language": "python",
   "name": "python3"
  },
  "language_info": {
   "codemirror_mode": {
    "name": "ipython",
    "version": 3
   },
   "file_extension": ".py",
   "mimetype": "text/x-python",
   "name": "python",
   "nbconvert_exporter": "python",
   "pygments_lexer": "ipython3",
   "version": "3.11.5"
  }
 },
 "nbformat": 4,
 "nbformat_minor": 2
}
