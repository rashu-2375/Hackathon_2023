{
 "cells": [
  {
   "cell_type": "markdown",
   "metadata": {},
   "source": [
    "Q. Given a dictionary containing the python marks for 5 students(key is the student name,and \n",
    "value is the python marks out of 100),create another dictionary which contains their name and grade(O,A,B,C,D,P,F).choose the grade boundaries appropriately.\n"
   ]
  },
  {
   "cell_type": "code",
   "execution_count": 2,
   "metadata": {},
   "outputs": [
    {
     "name": "stdout",
     "output_type": "stream",
     "text": [
      "{'Riya': 'P', 'Rinshu': 'B', 'komal': 'O', 'Neha': 'C', 'Rimmi': 'F'}\n"
     ]
    },
    {
     "ename": "",
     "evalue": "",
     "output_type": "error",
     "traceback": [
      "\u001b[1;31mThe Kernel crashed while executing code in the the current cell or a previous cell. Please review the code in the cell(s) to identify a possible cause of the failure. Click <a href='https://aka.ms/vscodeJupyterKernelCrash'>here</a> for more info. View Jupyter <a href='command:jupyter.viewOutput'>log</a> for further details."
     ]
    }
   ],
   "source": [
    "dict1 = {}\n",
    "dict_marks = {'Riya':45, 'Rinshu':75, 'komal':92, 'Neha':64,'Rimmi':30}\n",
    "for key,value in dict_marks.items():\n",
    "    if value>90:\n",
    "        value = \"O\"\n",
    "    elif value>80:\n",
    "        value = \"A\"\n",
    "    elif value>70:\n",
    "        value = \"B\"\n",
    "    elif value>60:\n",
    "        value = \"C\"\n",
    "    elif value>50:\n",
    "        value = \"D\"\n",
    "    elif value>40:\n",
    "        value = \"P\"\n",
    "    else:\n",
    "        value = \"F\"\n",
    "    dict1[key] = value\n",
    "print(dict1)\n",
    "\n",
    "\n"
   ]
  }
 ],
 "metadata": {
  "kernelspec": {
   "display_name": "Python 3",
   "language": "python",
   "name": "python3"
  },
  "language_info": {
   "codemirror_mode": {
    "name": "ipython",
    "version": 3
   },
   "file_extension": ".py",
   "mimetype": "text/x-python",
   "name": "python",
   "nbconvert_exporter": "python",
   "pygments_lexer": "ipython3",
   "version": "3.11.5"
  }
 },
 "nbformat": 4,
 "nbformat_minor": 2
}
