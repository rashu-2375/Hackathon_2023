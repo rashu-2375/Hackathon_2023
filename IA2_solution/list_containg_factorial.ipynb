{
 "cells": [
  {
   "cell_type": "markdown",
   "metadata": {},
   "source": [
    "Give a list of positive integers,create another list \n",
    "containing the factorial of all these integers."
   ]
  },
  {
   "cell_type": "markdown",
   "metadata": {},
   "source": [
    "# ***Right method***"
   ]
  },
  {
   "cell_type": "code",
   "execution_count": 2,
   "metadata": {},
   "outputs": [
    {
     "name": "stdout",
     "output_type": "stream",
     "text": [
      "[24, 120, 2, 720, 5040]\n"
     ]
    }
   ],
   "source": [
    "lst = [4,5,2,6,7]\n",
    "# lst = [1,2,3,4]\n",
    "\n",
    "lst_fact = []\n",
    "\n",
    "for i in lst:\n",
    "    fact_num = 1\n",
    "    for j in range(2,i+1):      # this loop calculates the facorial of each i\n",
    "        fact_num = fact_num * j\n",
    "          \n",
    "    lst_fact.append(fact_num)\n",
    "    \n",
    "print(lst_fact)\n",
    "\n"
   ]
  }
 ],
 "metadata": {
  "kernelspec": {
   "display_name": "Python 3",
   "language": "python",
   "name": "python3"
  },
  "language_info": {
   "codemirror_mode": {
    "name": "ipython",
    "version": 3
   },
   "file_extension": ".py",
   "mimetype": "text/x-python",
   "name": "python",
   "nbconvert_exporter": "python",
   "pygments_lexer": "ipython3",
   "version": "3.11.5"
  }
 },
 "nbformat": 4,
 "nbformat_minor": 2
}
